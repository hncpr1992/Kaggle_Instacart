{
 "cells": [
  {
   "cell_type": "markdown",
   "metadata": {},
   "source": [
    "This function is used to evaluate the f1 score"
   ]
  },
  {
   "cell_type": "code",
   "execution_count": 4,
   "metadata": {
    "collapsed": true
   },
   "outputs": [],
   "source": [
    "def f_score(y_pred, y_true):\n",
    "    \"\"\"\n",
    "    y_pred: python list, eg: [12345, 12321, 22221]\n",
    "    y_true: string, eg: [12345, 12321, 22221]\n",
    "    \"\"\"\n",
    "    y_pred_set = set(y_pred)\n",
    "    y_true_trans = y_true\n",
    "#     y_true.lstrip(\"[\").rstrip(\"]\")\n",
    "    if len(y_true_trans) > 0:\n",
    "        y_true_set = set([int(x) for x in y_true_trans])\n",
    "#         .split(\",\")\n",
    "    else:\n",
    "        y_true_set = set([])\n",
    "    TP = len(y_pred_set.intersection(y_true_set))\n",
    "    FP = len(y_pred_set) - TP\n",
    "    FN = len(y_true_set) - TP\n",
    "    try:\n",
    "        precision = TP/(TP+FP)\n",
    "        recall = TP/(TP+FN)\n",
    "        f_score = 2*precision*recall/(precision+recall)\n",
    "    except ZeroDivisionError:\n",
    "        return 0\n",
    "    else:\n",
    "        return f_score"
   ]
  },
  {
   "cell_type": "code",
   "execution_count": 5,
   "metadata": {
    "collapsed": true
   },
   "outputs": [],
   "source": [
    "y_pred = [12345, 23421]\n",
    "y_true_1 = [12345, 23421, 23422, 45432]\n",
    "y_true_2 = [12345, 23421]\n",
    "y_true_3 = [23422, 45432]\n",
    "y_true_4 = []"
   ]
  },
  {
   "cell_type": "code",
   "execution_count": 6,
   "metadata": {},
   "outputs": [
    {
     "data": {
      "text/plain": [
       "0.6666666666666666"
      ]
     },
     "execution_count": 6,
     "metadata": {},
     "output_type": "execute_result"
    }
   ],
   "source": [
    "f_score(y_pred, y_true_1)"
   ]
  },
  {
   "cell_type": "code",
   "execution_count": 7,
   "metadata": {},
   "outputs": [
    {
     "data": {
      "text/plain": [
       "1.0"
      ]
     },
     "execution_count": 7,
     "metadata": {},
     "output_type": "execute_result"
    }
   ],
   "source": [
    "f_score(y_pred, y_true_2)"
   ]
  },
  {
   "cell_type": "code",
   "execution_count": 8,
   "metadata": {},
   "outputs": [
    {
     "data": {
      "text/plain": [
       "0"
      ]
     },
     "execution_count": 8,
     "metadata": {},
     "output_type": "execute_result"
    }
   ],
   "source": [
    "f_score(y_pred, y_true_3)"
   ]
  },
  {
   "cell_type": "code",
   "execution_count": 9,
   "metadata": {},
   "outputs": [
    {
     "data": {
      "text/plain": [
       "0"
      ]
     },
     "execution_count": 9,
     "metadata": {},
     "output_type": "execute_result"
    }
   ],
   "source": [
    "f_score(y_pred, y_true_4)"
   ]
  }
 ],
 "metadata": {
  "anaconda-cloud": {},
  "kernelspec": {
   "display_name": "Python [Root]",
   "language": "python",
   "name": "Python [Root]"
  },
  "language_info": {
   "codemirror_mode": {
    "name": "ipython",
    "version": 3
   },
   "file_extension": ".py",
   "mimetype": "text/x-python",
   "name": "python",
   "nbconvert_exporter": "python",
   "pygments_lexer": "ipython3",
   "version": "3.5.2"
  }
 },
 "nbformat": 4,
 "nbformat_minor": 2
}
